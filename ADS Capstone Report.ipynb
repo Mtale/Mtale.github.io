{
 "cells": [
  {
   "cell_type": "markdown",
   "metadata": {
    "Collapsed": "false"
   },
   "source": [
    "# Biergartens in Germany - Where to travel if you can't attend Oktoberfest?"
   ]
  },
  {
   "cell_type": "markdown",
   "metadata": {
    "Collapsed": "false"
   },
   "source": [
    "## Introduction"
   ]
  },
  {
   "cell_type": "markdown",
   "metadata": {
    "Collapsed": "false"
   },
   "source": [
    "Bavaria, region at South-East Germany, is well known for it's beer culture. Bavarian purity law has stated since 1516 that beer is to be made of four ingredients: water, malt, hops and yeast. Munich, capital of Bavaria, is particularly well known for Oktoberfest which is celebrated elsewhere in Germany as well. Hence, if you are a traveler looking for once in a lifetime beer experience, you should probably attend Oktoberfest in Munich. But what if that's not possible? You may be traveling at different time of the year, or in another part of Germany. Where should you go? Obvious solution is to try out one, two or more biergartens, which can be found anywhere in Germany. \n",
    "\n",
    "This analysis attempts to determine where a traveler can get the best biergarten experience. The analysis will be conducted by asking the following questions and answering them by data analysis techniques.\n",
    "\n",
    "- Where can you find most biergartens?\n",
    "- Are biergartens equally popular in different regions?\n",
    "- Do biergarten reviews in Foursquare hint where to go to?\n",
    "- Does population structure or labour statistics explain density of biergartens?"
   ]
  },
  {
   "cell_type": "markdown",
   "metadata": {
    "Collapsed": "false"
   },
   "source": [
    "## Data"
   ]
  },
  {
   "cell_type": "markdown",
   "metadata": {
    "Collapsed": "false"
   },
   "source": [
    "Regional statistics of German population and society were fetched from [Eurostat City Statistics Database](https://ec.europa.eu/eurostat/web/cities/data/database).\n",
    "\n",
    "Locations of biergartens were got from OpenStreetMap where they are tagged. According to [OpenStreetMap Wiki](https://wiki.openstreetmap.org/wiki/Tag:amenity%3Dbiergarten) the tagging is very accurate since biergarten is distinquished from beer garden.\n",
    "\n",
    "[Foursquare API](https://developer.foursquare.com/docs/) was be used to fetch reviews of venues in categories *german pubs*, *bars* and *restaurants*. Biergartens were found by matching Foursquare venue location to OpenStreetMap location allowing radius of 25 meters."
   ]
  },
  {
   "cell_type": "markdown",
   "metadata": {
    "Collapsed": "false"
   },
   "source": [
    "## Methodology\n",
    "\n",
    "The analysis was conducted by comparing the 20 largest cities in Germany. the list of cities was obtained from [World Population Review website](https://worldpopulationreview.com/countries/germany-population/cities/).\n",
    "\n",
    "### Data Preparation\n",
    "\n",
    "Data collection was by far the most tedious task in the project due to multiple online sources previously unfamiliar to the me. To enable easy and reproducible data collection, a python package was created to consistently query Eurostat, OpenStreetMap and Foursquare APIs. The package can be found in and installed from the [project Github repository](https://github.com/Mtale/Coursera_Capstone).\n",
    "\n",
    "Once the data collection package was complete, it was used to run the following process:\n",
    "\n",
    "1) Get all biergartens from OpenStreeMap\n",
    "\n",
    "2) Match OpenStreeMap biergartens to Foursquare venues by coordinates allowing 25 meters radius. This phase introduces some inaccuracy in the process due to different data types in OpenStreetMap: some large biergartens have been expressed as [ways](https://wiki.openstreetmap.org/wiki/Way) or [relations](https://wiki.openstreetmap.org/wiki/Relation) instead of [nodes](https://wiki.openstreetmap.org/wiki/Node). It's  possible some of the large biergartens have been dropped out from the analysis if center point of polygon (way or relation) is more than 25 meters off of coordinates of a Foursquare venue. Setting a radius is a matter of balancing: too large radius allows other *pubs* and *german restaurants* to enter the dataset if they are next door neighbors of the actual biergarten. The few venues having fit to the radius of a biergarten are included in the dataset.\n",
    "\n",
    "3) Get likes count and rating of each venue from foursquare\n",
    "\n",
    "At last, the biergarten data was merged to Eurostat data to create a single dataframe containing the data needed in the analysis. The data preparation phase was executed in the notebook [Data Preparation](https://github.com/Mtale/Coursera_Capstone/blob/master/Data%20Preparation.ipynb).\n",
    "\n",
    "### Exploratory Data Analysis\n",
    "\n",
    "Exploratory data analysis (EDA) was conducted to examine quality of the dataset created in the data preparation phase. During the analysis it turned out that large part of the data acquired from Eurostat was missing - most likely due to self-set requirement that the data should be at most 4 years old, from between 2016-2019. Out of 145 variables from Eurostat 41 were excluded from further analysis due to high number of missing values. \n",
    "\n",
    "In the end, 38 easy-to-understand, non-correlating variables describing population structure and labour market of each city were included in the analysis. Population variables and some labour market variables were already proportional, number of jobs in industry were scaled to number of jobs per 1,000 inhabitants.\n",
    "\n",
    "In the last phase of EDA the most recent observation of each variable for each city was included in tidy dataset where biergartens were on rows and variables on columns.\n",
    "\n",
    "EDA was executed in the notebook [Exploratory Data Analysis](https://github.com/Mtale/Coursera_Capstone/blob/master/EDA.ipynb).\n",
    "\n",
    "### Statistical Analysis\n",
    "\n",
    "The objective of statistical analysis was to answer the predefined questions:\n",
    "\n",
    "- Where can you find most biergartens?\n",
    "- Are biergartens equally popular in different regions?\n",
    "- Do biergarten reviews in Foursquare hint where to go to?\n",
    "- Does population structure or labour statistics explain density of biergartens?\n",
    "\n",
    "The questions were answered by appropriate plotting techniques and visual analysis. An attempt to explain biergarten density per 100,000 people was made by using linear regression. The regression model was run on the dataset where variables having high correlation were excluded to avoid multicollinearity thus enabling interpretation of results.\n",
    "\n",
    "The analysis was done in the notebook [Analysis](https://github.com/Mtale/Coursera_Capstone/blob/master/Analysis.ipynb).\n",
    "\n"
   ]
  },
  {
   "cell_type": "markdown",
   "metadata": {
    "Collapsed": "false"
   },
   "source": [
    "## Results\n",
    "\n",
    "### Number of biergartens in the 20 largest cities\n",
    "Let's start by having a look at where are the 20 largest cities in Germany. The following map shows their location. Color of marker depicts the number of biergartens the city hosts per 100,000 people."
   ]
  },
  {
   "cell_type": "code",
   "execution_count": 1,
   "metadata": {
    "Collapsed": "false"
   },
   "outputs": [],
   "source": [
    "import folium\n",
    "import numpy as np\n",
    "import pandas as pd\n",
    "import seaborn as sns\n",
    "\n",
    "from geopy.geocoders import Nominatim\n",
    "from matplotlib import pyplot as plt\n",
    "from scipy import stats\n",
    "from sklearn.linear_model import LinearRegression\n",
    "from sklearn.pipeline import Pipeline\n",
    "from sklearn.preprocessing import MinMaxScaler\n",
    "\n",
    "# Custom modules\n",
    "# We will use top_20_cities dictionary from here\n",
    "from openstreetmap import openstreetmap as osm "
   ]
  },
  {
   "cell_type": "code",
   "execution_count": 2,
   "metadata": {
    "Collapsed": "false"
   },
   "outputs": [],
   "source": [
    "# Read the data and sort it by total population\n",
    "data = pd.read_csv('tidy_data.csv', sep=';')\n",
    "data = data.sort_values(by='Population on the 1st of January, total', ascending=False).reset_index(drop=True)\n",
    "\n",
    "# Rename the total population column\n",
    "data.rename(columns={'Population on the 1st of January, total':'total_population'}, inplace=True)\n",
    "\n",
    "# Replace unicode characters due to rendering issue in Folium\n",
    "data = data.replace(to_replace={'ü':'u','ö':'o'}, regex=True)\n",
    "\n",
    "# Add ratings count per city to tidy data\n",
    "data['ratings_count'] = data.rating.notnull().groupby(data['city']).transform('sum').astype(int)\n",
    "\n",
    "# Add likes_count per city to tidy data\n",
    "data['likes_count'] = data.likes_cnt.groupby(data['city']).transform('sum').astype(int)\n",
    "\n",
    "# Count ratings to distinct dataframe\n",
    "data_counts = pd.DataFrame(data.rating.notnull().groupby(data['city'], sort=False).sum().astype(int).reset_index())\n",
    "data_counts = data_counts.merge(data[['city', 'total_population']], on='city') \\\n",
    "                .drop_duplicates() \\\n",
    "                .reset_index(drop=True)\n",
    "data_counts.columns = ['city', 'ratings_count', 'total_population']\n",
    "\n",
    "# Count likes to distinct dataframe\n",
    "likes_counts = pd.DataFrame(data.likes_cnt.groupby(data['city'], sort=False).sum().astype(int).reset_index())\n",
    "likes_counts.columns = ['city','likes_count']\n",
    "data_counts = data_counts.merge(likes_counts, on='city')\n",
    "\n",
    "# Count number of biergartens per city\n",
    "no_of_biergartens_city = pd.DataFrame(data.groupby('city', sort=False).count().venue_id).reset_index()\n",
    "no_of_biergartens_city.columns = ['city', 'biergarten_count']\n",
    "\n",
    "# Join to count data\n",
    "data_counts = data_counts.merge(no_of_biergartens_city, on='city')\n",
    "\n",
    "# Count no of biergartens per 100,000 people\n",
    "data_counts['biergarten_count_100k'] = data_counts['biergarten_count']/data_counts['total_population']*100000\n",
    "\n",
    "# Add rank variables to dataset\n",
    "data_counts['biergarten_rank'] = data_counts['biergarten_count'].rank()\n",
    "data_counts['biergarten_100k_rank'] = data_counts['biergarten_count_100k'].rank()"
   ]
  },
  {
   "cell_type": "code",
   "execution_count": 3,
   "metadata": {
    "Collapsed": "false"
   },
   "outputs": [],
   "source": [
    "# Get coordinates for Germany to center the map\n",
    "geolocator = Nominatim(user_agent=\"germany_explorer\")\n",
    "address = 'Germany'\n",
    "location = geolocator.geocode(address)\n",
    "germany_latitude = location.latitude\n",
    "germany_longitude = location.longitude\n",
    "\n",
    "# Create empty dataframe to store coordinates to\n",
    "germany_city_coordinates = pd.DataFrame()\n",
    "\n",
    "# Get coordinates for cities to be plotted\n",
    "geolocator = Nominatim(user_agent=\"germany_explorer\")\n",
    "for city in osm.top20_cities.keys():\n",
    "    address = city + ', Germany'\n",
    "    location = geolocator.geocode(address)\n",
    "    d = {\n",
    "    'city': city,\n",
    "    'latitude': location.latitude,\n",
    "    'longitude': location.longitude,\n",
    "    }\n",
    "    germany_city_coordinates = germany_city_coordinates.append(d, ignore_index=True)\n",
    "    \n",
    "# Replace unicode characters due to rendering issue in Folium and to match rest of the data\n",
    "germany_city_coordinates = germany_city_coordinates.replace(to_replace={'ü':'u','ö':'o'}, regex=True)\n",
    "\n",
    "# Join coordinates to counts data\n",
    "data_counts = data_counts.merge(germany_city_coordinates, on='city')\n",
    "\n",
    "# Join coordinates to venue data\n",
    "data = data.merge(germany_city_coordinates, on='city')"
   ]
  },
  {
   "cell_type": "code",
   "execution_count": 4,
   "metadata": {
    "Collapsed": "false"
   },
   "outputs": [
    {
     "data": {
      "text/html": [
       "<div style=\"width:100%;\"><div style=\"position:relative;width:100%;height:0;padding-bottom:60%;\"><iframe src=\"about:blank\" style=\"position:absolute;width:100%;height:100%;left:0;top:0;border:none !important;\" data-html=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 onload=\"this.contentDocument.open();this.contentDocument.write(atob(this.getAttribute('data-html')));this.contentDocument.close();\" allowfullscreen webkitallowfullscreen mozallowfullscreen></iframe></div></div>"
      ],
      "text/plain": [
       "<folium.folium.Map at 0x14f5d423fc8>"
      ]
     },
     "execution_count": 4,
     "metadata": {},
     "output_type": "execute_result"
    }
   ],
   "source": [
    "# Inititate map of Germany\n",
    "map_germany = folium.Map(location=[germany_latitude, germany_longitude], zoom_start=6)\n",
    "\n",
    "# Loop through data_counts\n",
    "for city, lat, lng, pop, cnt, cnt_100k, rank, rank_100k in zip(data_counts['city']\n",
    "                          , data_counts['latitude']\n",
    "                          , data_counts['longitude']\n",
    "                          , data_counts['total_population']\n",
    "                          , data_counts['biergarten_count']\n",
    "                          , data_counts['biergarten_count_100k']\n",
    "                          , data_counts['biergarten_rank']\n",
    "                          , data_counts['biergarten_100k_rank']):\n",
    "    \n",
    "    # Generate html to include data in popup\n",
    "    label = (\n",
    "            \"{city}<br>\"\n",
    "            \"Population: {pop}<br>\"\n",
    "            \"No of biergartens: {cnt}<br>\"\n",
    "            \"No of biergartens per 100,000 people: {cnt_100k}<br>\"\n",
    "           ).format(city=city.upper(),\n",
    "                    pop=str(int(pop)),\n",
    "                    cnt=str(int(cnt)),\n",
    "                    cnt_100k=str(round(cnt_100k, 1)),\n",
    "                    )\n",
    "    \n",
    "    # Set marker color based on the biergarten_count_100k\n",
    "    if cnt_100k > 5:\n",
    "        colour = 'darkpurple'\n",
    "    elif cnt_100k > 4:\n",
    "        colour = 'red'\n",
    "    elif cnt_100k > 3:\n",
    "        colour = 'orange'\n",
    "    elif cnt_100k > 2:\n",
    "        colour = 'pink'\n",
    "    else:\n",
    "        colour = 'lightgray'\n",
    "    \n",
    "    # Add marker\n",
    "    map_germany.add_child(folium.Marker(\n",
    "        location=[lat, lng],\n",
    "        popup=label,\n",
    "        icon=folium.Icon(\n",
    "            color=colour,\n",
    "            prefix='fa',\n",
    "            icon='circle')))\n",
    "\n",
    "# Create a legent to map\n",
    "legend_html = \"\"\"\n",
    "     <div style=\"position: fixed; bottom: 50px; left: 50px; width: 150px; height: 200px; \\\n",
    "     border:2px solid grey; z-index:9999; font-size:14px;\" >\n",
    "     &nbsp; No of biergartens <br>\n",
    "     &nbsp; per 100,000 people <br>\n",
    "     &nbsp; 5 + &nbsp; <i class=\"fa fa-map-marker fa-2x\"\n",
    "                  style=\"color:darkpurple\"></i><br>\n",
    "     &nbsp; 4-5 &nbsp; <i class=\"fa fa-map-marker fa-2x\"\n",
    "                  style=\"color:red\"></i><br>\n",
    "     &nbsp; 3-4 &nbsp; <i class=\"fa fa-map-marker fa-2x\"\n",
    "                  style=\"color:orange\"></i><br>\n",
    "     &nbsp; 2-3 &nbsp; <i class=\"fa fa-map-marker fa-2x\"\n",
    "                  style=\"color:pink\"></i><br>\n",
    "     &nbsp; 0-2 &nbsp; <i class=\"fa fa-map-marker fa-2x\"\n",
    "                  style=\"color:lightgray\"></i></div>\n",
    "     \"\"\"\n",
    "map_germany.get_root().html.add_child(folium.Element(legend_html))\n",
    "    \n",
    "# Show the map\n",
    "map_germany"
   ]
  },
  {
   "cell_type": "markdown",
   "metadata": {
    "Collapsed": "false"
   },
   "source": [
    "<br>\n",
    "Plotting the number of biergartens in city aside of number of biergartens per 100,000 people provides us with an overall view to the difference of biergarten density in cities. It's easy to see that Berlin has much scarcer density than many smaller cities whereas Leipzig is comparable to Munich and Dresden is comparable to Frankfurt. \n",
    "<br>\n",
    "<br>\n",
    "<img src=\"result_charts/biergarten_freq.png\">\n",
    "<br>\n",
    "Converting actual numbers to ranking often provides one with a clearer view to the phenomena. Such is it here: it's very easy to see that the two largest cities, Hamburg and Berlin, are way off the diagonal having lower than average biergarten density. Three smaller cities: Bielefeld, Mannheim and Bonn, seem to have high density even though they host relatively few biergartens.\n",
    "<br>\n",
    "<br>\n",
    "<img src=\"result_charts/biergarten_rank_scatter.png\">\n",
    "\n",
    "### Review of biergarten reviews in Foursquare\n",
    "\n",
    "Gut feeling says that lots of reviews may not be written by locals but tourists. The following chart of likes count in Foursquare doesn't prove the gut feeling but it shows that biergartens in the two most popular travel destinations, Berlin and Munich, have got eight times more likes than the venues in other cities. Hence, we gain no wisdom on biergarten popularity by looking at the likes.\n",
    "<br>\n",
    "<br>\n",
    "<img src=\"result_charts/likes_count.png\">\n",
    "<br>\n",
    "<br>\n",
    "How about ratings then? There must be differences between ratings in different cities. There are, yes. But number of rated biergartens is very small in many of the cities. Ratings median in Stuttgart is somewhat higher than other cities. Next in the chart, Dusseldorf, has the lowest median of all the 20 largest cities.\n",
    "<br>\n",
    "<br>\n",
    "<img src=\"result_charts/ratings_boxplot.png\">\n",
    "\n",
    "### Does population structure or economical activity explain density of biergartens?\n",
    "\n",
    "Yes, it does. Particularly when coupled with location of the city. \n",
    "\n",
    "To avoid multicollinearity and enable interpretation of regression coefficients, variables with correlation higher than 0.7 were excluded from the analysis. Intercept being 1.495 and R<sup>2</sup> = 0.85, the following chart allows us to draw some conclusions:\n",
    "\n",
    "- The southern the city, the higher the biergarten density per 100,000 people\n",
    "- The western the city, the higher the density\n",
    "- The higher the proportion of small children, the higher the density (note that proportion of small children correlates with proportion of adults on their 30s)\n",
    "- The higher the proportion of youg adults, the higher the density\n",
    "- The higher the proportion of women, the higher the density\n",
    "<br>\n",
    "<br>\n",
    "<img src=\"result_charts/regression_coef.png\">\n",
    "<br>\n",
    "<br>\n",
    "Regression plot of actual density and predicted density tells us that most of the predictions are amazingly accurate: only Hamburg and Essen are way off.\n",
    "<br>\n",
    "<br>\n",
    "<img src=\"result_charts/regression_plot.png\">"
   ]
  },
  {
   "cell_type": "markdown",
   "metadata": {
    "Collapsed": "false"
   },
   "source": [
    "## Discussion\n",
    "\n",
    "Results of the analysis are fascinating! It was a great surprise to me that biergarten density can be explained so well by using only simple, commonly available statistics. It would be interesting to apply the model to other German cities to see whether there's a threshold in city size where the model stops working. Many German cities are similar size: there are only 3 cities hosting more than a million inhabitants and 97 cities having population between 100,000 to 1 million. Hence, there is a chance that the model would work for smaller cities than the 20 largest.\n",
    "\n",
    "Motivation of the analysis was to learn where should one go to get a great biergarten experience if Munich is not an option. Based on the analysis, my choice would be Leipzig, the only city having higher density of Biergartens than Munich. The 10 rated biergartens in Stuttgart are likely to be worth exploring, based on the high median rating and high third quartile rating. According to the Foursquare ratings, one should not go to Dusseldorf for biergartens.\n",
    "\n",
    "If you are after a good beer and are traveling anyway, it's safe to use this analysis as one of the inputs for destination selection. If you consider founding a biergarten in Germany, please don't use this analysis for decision making. Even though foundation for proper analysis is solid, more effort should be put to data processing, to matching biergartens found on openStreetMap to venues in Foursquare. Probably you would be better off with Foursquare data only as such business decision must be based on competition brought by other types of restaurants, bars and pubs, not only other biergartens."
   ]
  },
  {
   "cell_type": "markdown",
   "metadata": {
    "Collapsed": "false"
   },
   "source": [
    "## Conclusion\n",
    "\n",
    "Working with GIS data can be a tedious task for a newcomer. Various data types and their relations take time to grasp - mastering them was not in the scope of this analysis. Hence, the results of the analysis are advisory, not conclusive. Doing the analysis was a great learning experience enabling me to gain rudimentary understanding of GIS data and to spark greater respect for masters of the field.\n",
    "\n",
    "The advisory results are very interesting, though. There are big diffences in biergarten density the 20 largest cities in Germany taking Leipzig and Stuttgart closer to the top of my traveling destinations. "
   ]
  }
 ],
 "metadata": {
  "kernelspec": {
   "display_name": "Python (ads-capstone)",
   "language": "python",
   "name": "ads-capstone"
  },
  "language_info": {
   "codemirror_mode": {
    "name": "ipython",
    "version": 3
   },
   "file_extension": ".py",
   "mimetype": "text/x-python",
   "name": "python",
   "nbconvert_exporter": "python",
   "pygments_lexer": "ipython3",
   "version": "3.7.6"
  }
 },
 "nbformat": 4,
 "nbformat_minor": 4
}
